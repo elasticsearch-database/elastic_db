{
 "cells": [
  {
   "cell_type": "code",
   "execution_count": 1,
   "metadata": {},
   "outputs": [],
   "source": [
    "import requests\n",
    "from bs4 import BeautifulSoup\n",
    "import time \n",
    "import random \n",
    "import re\n",
    "from fake_useragent import UserAgent\n",
    "import datetime\n",
    "from elasticsearch import Elasticsearch\n",
    "from tqdm import tqdm\n",
    "es=Elasticsearch()"
   ]
  },
  {
   "cell_type": "code",
   "execution_count": 2,
   "metadata": {},
   "outputs": [],
   "source": [
    "class KanobuArticle:\n",
    "    def __init__(self):\n",
    "        self.date=\"\"\n",
    "        self.time=\"\"\n",
    "        self.words=\"\"\n",
    "        self.rubr=\"\"\n",
    "        self.hashtag=\"\"\n",
    "        self.author=\"\"\n",
    "        self.head=\"\"\n",
    "        self.text=\"\"\n",
    "        \n",
    "\n",
    "    def toJSON(self):\n",
    "        res='{\"date\":\"'+self.date+'\", \"time\":\"'+self.time+'\", \"words\":\"'+self.words+'\", \"rubrics\":\"'+self.rubr+'\", \"hashtag\":\"'+self.hashtag+'\", \"title\":\"'\n",
    "        +self.head+'\", \"author\":\"'+self.author+'\",\"text\":\"'\n",
    "        res+=self.text.replace('\"', '\\\\\"')+'\"}'\n",
    "        return res\n",
    "\n",
    "\n",
    "    def toDict(self):\n",
    "        res={\"date\":self.date, \"time\":self.time, \"rubrics\":self.rubr, \"hashtag\":self.hashtag, \\\n",
    "             \"title\":self.head, \"words\":self.words, \"author\":self.author,\"text\":self.text.replace('\"', '\\\\\"')}\n",
    "        return res"
   ]
  },
  {
   "cell_type": "code",
   "execution_count": 3,
   "metadata": {},
   "outputs": [],
   "source": [
    "def GetPagesArticles(number_of_pages):\n",
    "    headers = {'User-Agent':'Mozilla/5.0 (Windows NT 6.4; WOW64) AppleWebKit/537.36 (KHTML, like Gecko) Chrome/41.0.2225.0 Safari/537.36'}\n",
    "    url = 'https://kanobu.ru/news/?page='\n",
    "    links = []\n",
    "    for page in range(1, number_of_pages+1):\n",
    "        r = requests.get(url + str(page), headers = headers)\n",
    "        time.sleep(random.randint(1,6))\n",
    "        content = r.content\n",
    "        html = content.decode('UTF-8')\n",
    "        soup = BeautifulSoup(html)\n",
    "        \n",
    "        for link in soup.find_all('a', attrs={'class':'c-item_foot d-b t-l'}):\n",
    "            links.append(link.get('href'))\n",
    "    \n",
    "    return links    "
   ]
  },
  {
   "cell_type": "code",
   "execution_count": 4,
   "metadata": {},
   "outputs": [],
   "source": [
    "def clean_text (text):\n",
    "    text = text.replace('\\xa0', ' ')\n",
    "    text = text.replace ('\\n', ' ')\n",
    "    text = text.replace ('  ', ' ')\n",
    "    return text"
   ]
  },
  {
   "cell_type": "code",
   "execution_count": 302,
   "metadata": {},
   "outputs": [],
   "source": [
    "def add_article(link):\n",
    "    art = KanobuArticle()\n",
    "    headers = {'User-Agent':'Mozilla/5.0 (Windows NT 6.4; WOW64) AppleWebKit/537.36 (KHTML, like Gecko) Chrome/41.0.2225.0 Safari/537.36'}\n",
    "    page = requests.get(link, headers = headers)\n",
    "    content = page.content\n",
    "    html = content.decode('UTF-8')\n",
    "    soup = BeautifulSoup(html)\n",
    "    \n",
    "    date = soup.find('div', attrs={'class':'c-title_footer'}).get_text()\n",
    "    art.date = date.split(', ')[0]\n",
    "    art.time = date.split(', ')[1]\n",
    "        \n",
    "    author = soup.find('a', attrs={'class':'c-title_author'}).get_text()\n",
    "    art.author = author\n",
    "        \n",
    "    text = soup.find('div', attrs={'class':'c-detail_content'}).get_text()\n",
    "    art.text = clean_text(text)\n",
    "        \n",
    "    words = len(clean_text(text).split())\n",
    "    art.words = words\n",
    "        \n",
    "    title = soup.find('h1', attrs={'class':'c-title_body'}).get_text()\n",
    "    art.head = clean_text(title)\n",
    "        \n",
    "    rubric = soup.find('div', attrs={'class':'c-title_head t-t-u'}).get_text()\n",
    "    r = rubric.split(' | ')\n",
    "    art.rubr = r[0]\n",
    "    try:\n",
    "        art.hashtag = r[1]\n",
    "    except:\n",
    "        pass\n",
    "    \n",
    "    #print(art)\n",
    "    #print(text)\n",
    "    #print(date)\n",
    "    #print(author)\n",
    "    print(title)\n",
    "    print(words)\n",
    "    #print(r[0])\n",
    "    #print(r[1])\n",
    "    \n",
    "    \n",
    "    res = es.search(index=\"kanobu\", body={\"query\": {\"match_all\": {}}})\n",
    "    maxid = res['hits']['total']['value']\n",
    "    \n",
    "    es.index(index=\"kanobu\", doc_type='article', id = maxid, body=art.toDict())"
   ]
  },
  {
   "cell_type": "code",
   "execution_count": 241,
   "metadata": {},
   "outputs": [],
   "source": [
    "def create_db(index):\n",
    "    es.indices.create(index=index)\n",
    "    mapit={\"article\":{\"properties\":{\"author\":{\"type\":\"text\"},\n",
    "                                \"date\":{\"type\":\"text\"},\n",
    "                                \"time\":{\"type\":\"date\", \"format\":\" HH:mm\"},\n",
    "                                \"words\":{\"type\":\"double\"},\n",
    "                                \"hashtag\":{\"type\":\"text\",\"analyzer\" : \"russian\"},\n",
    "                                \"rubrics\":{\"type\":\"text\",\"analyzer\" : \"russian\"},\n",
    "                                \"text\":{\"type\":\"text\",\"analyzer\" : \"russian\"},\n",
    "                                \"title\":{\"type\":\"text\",\"analyzer\" : \"russian\"}}}}\n",
    "    es.indices.put_mapping(index=index, doc_type='article', body=mapit, include_type_name=True)"
   ]
  },
  {
   "cell_type": "code",
   "execution_count": 303,
   "metadata": {},
   "outputs": [],
   "source": [
    "def GetArticles(links):\n",
    "    create_db(\"kanobu\")\n",
    "    l = 'https://kanobu.ru'\n",
    "    for link in links:\n",
    "        add_article(l+link)\n",
    "        time.sleep(random.randint(1,3))"
   ]
  },
  {
   "cell_type": "code",
   "execution_count": 304,
   "metadata": {},
   "outputs": [
    {
     "data": {
      "text/plain": [
       "{'acknowledged': True}"
      ]
     },
     "execution_count": 304,
     "metadata": {},
     "output_type": "execute_result"
    }
   ],
   "source": [
    "es.indices.delete(index=\"kanobu\") "
   ]
  },
  {
   "cell_type": "code",
   "execution_count": 305,
   "metadata": {},
   "outputs": [
    {
     "name": "stdout",
     "output_type": "stream",
     "text": [
      "Владельцам Call of Duty: Warzone бесплатно доступен мультиплеер Modern Warfare\n",
      "192\n",
      "Представлены смарт-камеры серии Xiaomi Mi Smart Camera PTZ: новинки для создания безопасного дома\n",
      "140\n",
      "Дэниел Крейг, Кейт Уинслет, Элтон Джон и другие знаменитости поблагодарили медиков\n",
      "140\n",
      "Marvel открыла бесплатный доступ к части своих комиксов. Но только до 4 мая\n",
      "156\n",
      "«Он тупой»: Хабиб ответил на требование Фергюсона лишить его чемпионского пояса\n",
      "201\n",
      "Okko открыл доступ к бесплатной коллекции фильмов и концертов\n",
      "179\n",
      "Российский дизайнер сделал глянцевый журнал о коронавирусе с пациентами больницы\n",
      "199\n",
      "Николь Кидман сыграет в новом триллере от Amazon\n",
      "164\n",
      "Инсайдер объяснил, почему перенесли The Last of Us 2\n",
      "173\n",
      "Xiaomi представила новые 4К-телевизоры на 60 и 75 дюймов\n",
      "175\n",
      "Танцы с гробом стали новым мемом. Даже пародию в Doom Eternal сделали\n",
      "201\n",
      "Джеймс Ганн раскрыл сюжет «Скуби-Ду 3». Фанаты приятно удивлены\n",
      "178\n",
      "Xiaomi представила дорогие детские смарт-часы Mi Bunny Childrenʼs Watch 4\n",
      "169\n",
      "Фредди Крюгер советует носить перчатку — это новое видео от Роберта Инглунда\n",
      "146\n",
      "«Однажды в… Голливуде» может стать книгой. Об этом рассказал Тарантино\n",
      "153\n",
      "Представлен ультрабюджетный фитнес-трекер Redmi Band\n",
      "122\n",
      "Смотрим финальный трейлер Final Fantasy VII Remake\n",
      "103\n",
      "AnTuTu назвал самые мощные Android-смартфоны марта\n",
      "137\n",
      "Лидер Little Big снял клип о королеве карантина. Это заявка на «Карантиновидение-2020»\n",
      "172\n",
      "Когда выйдут «Тихое место 2» и «Топ Ган: Мэверик»? Paramount назвала новые даты релиза своих фильмов\n",
      "158\n",
      "Xiaomi Mi Air 2S: беспроводные наушники с шумоподавлением и сутками автономной работы за 4300 рублей\n",
      "128\n",
      "Список фигурок по «Вечным» выдал новых персонажей фильма Marvel\n",
      "169\n",
      "В Apex Legends стартует новое сюжетное событие. Что еще свежего\n",
      "98\n",
      "Обновление Windows 10 уменьшит нагрузку на процессор и место системы на диске\n",
      "102\n",
      "На BAFTA Games Awards 2020 назвали лучшую игру года. И это не Death Stranding\n",
      "161\n",
      "iPhone 9 не выйдет. Новый флагман Apple все-таки назовут iPhone SE\n",
      "183\n",
      "Инсайдер поделился подробностями о перезагрузке «Обители зла»\n",
      "198\n",
      "Режиссер «Шазама» опубликовал новый мини-хоррор. Не побоитесь?\n",
      "96\n",
      "Инди-хит Darkest Dungeon получит новое дополнение в мае\n",
      "113\n",
      "Каким был изначальный сюжет 9 эпизода «Звездных войн»? Фанат снял анимационную версию\n",
      "206\n",
      "Авторы отличного «рогалика» Rogue Legacy анонсировали вторую часть\n",
      "133\n",
      "Кодзима хочет сделать хоррор, от которого вы «обделаетесь»\n",
      "189\n",
      "Apple случайно подтвердила слухи об AirTags\n",
      "141\n",
      "Фил Спенсер рассказал о новом поколении Xbox в рамках подкаста Unlocked\n",
      "245\n",
      "Марк Церни дал интервью, в котором раскрыл новые подробности о PS5\n",
      "299\n",
      "Галерея дня. Скриншоты The Last of Us 2: герои, пейзажи и бои\n",
      "224\n"
     ]
    }
   ],
   "source": [
    "GetArticles(GetPagesArticles(2))"
   ]
  },
  {
   "cell_type": "markdown",
   "metadata": {},
   "source": [
    "### Интерфейс"
   ]
  },
  {
   "cell_type": "code",
   "execution_count": 276,
   "metadata": {},
   "outputs": [],
   "source": [
    "import ipywidgets as widgets\n",
    "from IPython.display import display, Markdown, clear_output\n",
    "from ipywidgets import interact, interactive, fixed, interact_manual"
   ]
  },
  {
   "cell_type": "code",
   "execution_count": 277,
   "metadata": {},
   "outputs": [],
   "source": [
    "text1 = widgets.Text(\n",
    "    value='',\n",
    "    placeholder='Type what you want to find',\n",
    "    description='Text:',\n",
    "    disabled=False\n",
    ")"
   ]
  },
  {
   "cell_type": "code",
   "execution_count": 278,
   "metadata": {},
   "outputs": [],
   "source": [
    "menu = widgets.Dropdown(\n",
    "       options=['id', 'title', 'date', 'author', 'hashtag', 'rubrics'],\n",
    "       value='id',\n",
    "       description='How to find?')"
   ]
  },
  {
   "cell_type": "code",
   "execution_count": 279,
   "metadata": {},
   "outputs": [],
   "source": [
    "text = widgets.Text(\n",
    "    value='',\n",
    "    placeholder='Type what you want to find',\n",
    "    description='Text:',\n",
    "    disabled=False\n",
    ")"
   ]
  },
  {
   "cell_type": "code",
   "execution_count": 280,
   "metadata": {},
   "outputs": [],
   "source": [
    "text2 = widgets.Text(\n",
    "    value='',\n",
    "    placeholder='Enter the link of the article to add',\n",
    "    description='Text:',\n",
    "    disabled=False\n",
    ")"
   ]
  },
  {
   "cell_type": "code",
   "execution_count": 281,
   "metadata": {},
   "outputs": [],
   "source": [
    "order = widgets.Dropdown(\n",
    "       options=['ascending', 'descending'],\n",
    "       value='ascending',\n",
    "       description='Order')"
   ]
  },
  {
   "cell_type": "code",
   "execution_count": 282,
   "metadata": {},
   "outputs": [],
   "source": [
    "sortby = widgets.Dropdown(\n",
    "       options=['_id', 'words'],\n",
    "       value='_id',\n",
    "       description='Sort by')"
   ]
  },
  {
   "cell_type": "code",
   "execution_count": 283,
   "metadata": {},
   "outputs": [],
   "source": [
    "number = widgets.IntSlider(\n",
    "    value=10,\n",
    "    min=1,\n",
    "    max=10000,\n",
    "    step=1,\n",
    "    description='How many articles?',\n",
    ")\n",
    "\n"
   ]
  },
  {
   "cell_type": "code",
   "execution_count": 284,
   "metadata": {},
   "outputs": [],
   "source": [
    "counter = widgets.Dropdown(\n",
    "       options=['avg', 'max'],\n",
    "       value='max',\n",
    "       description='words')"
   ]
  },
  {
   "cell_type": "code",
   "execution_count": 285,
   "metadata": {},
   "outputs": [],
   "source": [
    "button1 = widgets.Button(description='Count')\n",
    "out = widgets.Output()"
   ]
  },
  {
   "cell_type": "code",
   "execution_count": 286,
   "metadata": {},
   "outputs": [],
   "source": [
    "def on_button_clicked1(_):\n",
    "    with out:\n",
    "        clear_output()\n",
    "        res=es.search(index = \"kanobu\", body = {\"size\": 0, \"aggs\": {counter.value: {counter.value: {\"field\": \"words\" }}}})\n",
    "        print(round(res[\"aggregations\"][counter.value][\"value\"]))\n",
    "        "
   ]
  },
  {
   "cell_type": "code",
   "execution_count": 287,
   "metadata": {},
   "outputs": [],
   "source": [
    "button1.on_click(on_button_clicked1)"
   ]
  },
  {
   "cell_type": "code",
   "execution_count": 288,
   "metadata": {},
   "outputs": [],
   "source": [
    "button2 = widgets.Button(description='Match with options')\n",
    "out = widgets.Output()\n",
    "\n",
    "def on_button_clicked2(_):\n",
    "    with out:\n",
    "        clear_output()\n",
    "        if menu.value == 'id':\n",
    "            id_search = int(text.value)\n",
    "            print(es.get(index=\"kanobu\", doc_type='article', id=id_search))\n",
    "        \n",
    "        else:\n",
    "            res = es.search(index=\"kanobu\", body={\"query\": {\"match\": {menu.value : text.value}}}, size=100)\n",
    "            for part in res[\"hits\"][\"hits\"]:\n",
    "                print(part)"
   ]
  },
  {
   "cell_type": "code",
   "execution_count": 289,
   "metadata": {},
   "outputs": [],
   "source": [
    "button2.on_click(on_button_clicked2)"
   ]
  },
  {
   "cell_type": "code",
   "execution_count": 290,
   "metadata": {},
   "outputs": [],
   "source": [
    "button3 = widgets.Button(description='Add article')\n",
    "out = widgets.Output()\n",
    "\n",
    "def on_button_clicked3(_):\n",
    "    with out:\n",
    "        clear_output()\n",
    "        link = text2.value\n",
    "        add_article(link)"
   ]
  },
  {
   "cell_type": "code",
   "execution_count": 291,
   "metadata": {},
   "outputs": [],
   "source": [
    "button3.on_click(on_button_clicked3)"
   ]
  },
  {
   "cell_type": "code",
   "execution_count": 292,
   "metadata": {},
   "outputs": [],
   "source": [
    "text3 = widgets.Text(\n",
    "    value='',\n",
    "    placeholder='Enter article id to delete',\n",
    "    description='Text:',\n",
    "    disabled=False\n",
    ")"
   ]
  },
  {
   "cell_type": "code",
   "execution_count": 293,
   "metadata": {},
   "outputs": [],
   "source": [
    "button4 = widgets.Button(description='Delete article')\n",
    "out = widgets.Output()\n",
    "\n",
    "def on_button_clicked4(_):\n",
    "    with out:\n",
    "        clear_output()\n",
    "        id_del = int(text3.value)\n",
    "        es.delete(index=\"kanobu\",doc_type=\"article\",id=id_del)\n",
    "        print('Done')"
   ]
  },
  {
   "cell_type": "code",
   "execution_count": 294,
   "metadata": {},
   "outputs": [],
   "source": [
    "button4.on_click(on_button_clicked4)"
   ]
  },
  {
   "cell_type": "code",
   "execution_count": 295,
   "metadata": {},
   "outputs": [],
   "source": [
    "button5 = widgets.Button(description='Sort articles')\n",
    "out = widgets.Output()"
   ]
  },
  {
   "cell_type": "code",
   "execution_count": 296,
   "metadata": {},
   "outputs": [],
   "source": [
    "def on_button_clicked5(_):\n",
    "    with out:\n",
    "        clear_output()\n",
    "        if order.value == 'ascending':\n",
    "            ord = str(sortby.value)+':asc'\n",
    "        elif order.value == 'descending':\n",
    "            ord = str(sortby.value)+':desc'\n",
    "        res = es.search(index=\"kanobu\", body={\"query\": {\"match_all\": {}}}, sort=ord,size=number.value)\n",
    "        for part in res[\"hits\"][\"hits\"]:\n",
    "            print(part)"
   ]
  },
  {
   "cell_type": "code",
   "execution_count": 297,
   "metadata": {},
   "outputs": [],
   "source": [
    "button5.on_click(on_button_clicked5)"
   ]
  },
  {
   "cell_type": "code",
   "execution_count": 298,
   "metadata": {},
   "outputs": [],
   "source": [
    "id_upd = widgets.Text(\n",
    "    value='',\n",
    "    placeholder='Enter your id',\n",
    "    description='Text:',\n",
    "    disabled=False\n",
    ")\n",
    "\n",
    "menu_upd = widgets.Dropdown(\n",
    "       options=['title', 'date', 'author', 'hashtag', 'rubrics', 'text'],\n",
    "       value='title',\n",
    "       description='What to update?')\n",
    "\n",
    "text_upd = widgets.Text(\n",
    "    value='',\n",
    "    placeholder='Enter your update',\n",
    "    description='Text:',\n",
    "    disabled=False\n",
    ")\n",
    "\n",
    "button_upd = widgets.Button(description='Update')\n",
    "out = widgets.Output()\n",
    "\n",
    "def on_button_clicked_upd(_):\n",
    "    with out:\n",
    "        clear_output()\n",
    "        your_id = int(id_upd.value)\n",
    "        upd_area = str(menu_upd.value)\n",
    "        text = str(text_upd.value)\n",
    "        es.update(index='kanobu', doc_type='article', id=your_id, body={\"doc\": {upd_area: text}})\n",
    "        print('Done')"
   ]
  },
  {
   "cell_type": "code",
   "execution_count": 299,
   "metadata": {},
   "outputs": [],
   "source": [
    "button_upd.on_click(on_button_clicked_upd)"
   ]
  },
  {
   "cell_type": "code",
   "execution_count": 306,
   "metadata": {
    "scrolled": false
   },
   "outputs": [
    {
     "data": {
      "application/vnd.jupyter.widget-view+json": {
       "model_id": "efdf570975b8448eae8fcd51aff3aadc",
       "version_major": 2,
       "version_minor": 0
      },
      "text/plain": [
       "VBox(children=(VBox(children=(Dropdown(description='How to find?', index=2, options=('id', 'title', 'date', 'a…"
      ]
     },
     "metadata": {},
     "output_type": "display_data"
    }
   ],
   "source": [
    "box1 = widgets.VBox([menu, text, button2])\n",
    "box2 = widgets.VBox([text2, button3, text3, button4])\n",
    "box3 = widgets.VBox([id_upd, menu_upd, text_upd, button_upd])\n",
    "box4 = widgets.VBox([sortby,order, number, button5])\n",
    "box5 = widgets.VBox([counter, button1])\n",
    "widgets.VBox([box1, box2, box3, box4, box5, out])"
   ]
  },
  {
   "cell_type": "markdown",
   "metadata": {},
   "source": [
    "- поиск по Id выполняется по другому (придумать как добавить его в ту же кнопку) - <b>сделано</b>\n",
    "- кнопка для добавления статьи по ссылке - <b>сделано</b>\n",
    "- не хватает операции update (например, \"положи по существующему индексу другую статью\" - <b>сделано</b>\n",
    "- нужно организовать меню с кнопками получше - <b>сделано</b>\n",
    "- сортировка <b>сделано</b>\n",
    "- - \"2 - два действия помимо CRUD (сортировка, группировка, агрегация, ...) \" <b>сделано</b>\n",
    "- виджет с агрегацией <b>сделано</b>\n",
    "- Когда ищу для 2 апреля сначала идут статьи 2 апреля, а потом почему-то статьи 3 апреля (и наоборот)\n",
    "- группировка "
   ]
  },
  {
   "cell_type": "markdown",
   "metadata": {},
   "source": [
    "\"Требования к нереляционным БД\n",
    "2 - нереляционная БД\n",
    "2 - красивая структура БД\n",
    "2 - интерфейс позволяет класть, доставать, удалять данные (проводить операции CRUD - Create, Read, Update, Delete)\n",
    "2 - два действия помимо CRUD (сортировка, группировка, агрегация, ...)\n",
    "2 - зависит от БД: Redis - использование ключей, хешей, ...; Neo4j - нахождение путей не только к соседним вершинам, операции с графами; MongoDB, ElasticSearch - работа с текстами или географией; остальные БД - будем договариваться.\""
   ]
  }
 ],
 "metadata": {
  "kernelspec": {
   "display_name": "Python 3",
   "language": "python",
   "name": "python3"
  },
  "language_info": {
   "codemirror_mode": {
    "name": "ipython",
    "version": 3
   },
   "file_extension": ".py",
   "mimetype": "text/x-python",
   "name": "python",
   "nbconvert_exporter": "python",
   "pygments_lexer": "ipython3",
   "version": "3.7.6"
  }
 },
 "nbformat": 4,
 "nbformat_minor": 2
}
