{
 "cells": [
  {
   "cell_type": "code",
   "execution_count": 1,
   "metadata": {},
   "outputs": [],
   "source": [
    "import requests\n",
    "from bs4 import BeautifulSoup\n",
    "import time \n",
    "import random \n",
    "import re\n",
    "from fake_useragent import UserAgent\n",
    "import datetime\n",
    "from elasticsearch import Elasticsearch\n",
    "from tqdm import tqdm\n",
    "es=Elasticsearch()"
   ]
  },
  {
   "cell_type": "code",
   "execution_count": 2,
   "metadata": {},
   "outputs": [],
   "source": [
    "class KanobuArticle:\n",
    "    def __init__(self):\n",
    "        self.date=\"\"\n",
    "        self.time=\"\"\n",
    "        self.words=\"\"\n",
    "        self.rubr=\"\"\n",
    "        self.rubrid=\"\"\n",
    "        self.hashtag=\"\"\n",
    "        self.weblink=\"\"\n",
    "        self.author=\"\"\n",
    "        self.head=\"\"\n",
    "        self.text=\"\"\n",
    "        \n",
    "\n",
    "    def toJSON(self):\n",
    "        res='{\"date\":\"'+self.date+'\", \"time\":\"'+self.time+'\", \"words\":\"'+self.words+'\", \"rubrics_id\":\"'+self.rubrid+'\", \"rubrics\":\"'+self.rubr+'\", \"hashtag\":\"'+self.hashtag+'\", \"title\":\"'\n",
    "        +self.head+'\", \"link\":\"'+self.weblink+'\", \"author\":\"'+self.author+'\",\"text\":\"'\n",
    "        res+=self.text.replace('\"', '\\\\\"')+'\"}'\n",
    "        return res\n",
    "\n",
    "\n",
    "    def toDict(self):\n",
    "        res={\"date\":self.date, \"time\":self.time, \"rubrics_id\":self.rubrid, \"rubrics\":self.rubr, \"hashtag\":self.hashtag, \\\n",
    "             \"title\":self.head, \"words\":self.words, \"link\":self.weblink, \"author\":self.author,\"text\":self.text.replace('\"', '\\\\\"')}\n",
    "        return res"
   ]
  },
  {
   "cell_type": "code",
   "execution_count": 3,
   "metadata": {},
   "outputs": [],
   "source": [
    "def GetPagesArticles(number_of_pages):\n",
    "    headers = {'User-Agent':'Mozilla/5.0 (Windows NT 6.4; WOW64) AppleWebKit/537.36 (KHTML, like Gecko) Chrome/41.0.2225.0 Safari/537.36'}\n",
    "    url = 'https://kanobu.ru/news/?page='\n",
    "    links = []\n",
    "    for page in range(1, number_of_pages+1):\n",
    "        r = requests.get(url + str(page), headers = headers)\n",
    "        time.sleep(random.randint(1,6))\n",
    "        content = r.content\n",
    "        html = content.decode('UTF-8')\n",
    "        soup = BeautifulSoup(html)\n",
    "        \n",
    "        for link in soup.find_all('a', attrs={'class':'c-item_foot d-b t-l'}):\n",
    "            links.append(link.get('href'))\n",
    "    \n",
    "    return links    "
   ]
  },
  {
   "cell_type": "code",
   "execution_count": 4,
   "metadata": {},
   "outputs": [],
   "source": [
    "def clean_text (text):\n",
    "    text = text.replace('\\xa0', ' ')\n",
    "    text = text.replace ('\\n', ' ')\n",
    "    text = text.replace ('  ', ' ')\n",
    "    return text"
   ]
  },
  {
   "cell_type": "code",
   "execution_count": 5,
   "metadata": {},
   "outputs": [],
   "source": [
    "def add_article(links):\n",
    "    l = 'https://kanobu.ru'\n",
    "    articles = []\n",
    "    rubrics_id = {}\n",
    "    i = 1\n",
    "    \n",
    "    for link in links:\n",
    "        art = KanobuArticle()\n",
    "        headers = {'User-Agent':'Mozilla/5.0 (Windows NT 6.4; WOW64) AppleWebKit/537.36 (KHTML, like Gecko) Chrome/41.0.2225.0 Safari/537.36'}\n",
    "        page = requests.get(l+link, headers = headers)\n",
    "        content = page.content\n",
    "        html = content.decode('UTF-8')\n",
    "        soup = BeautifulSoup(html)\n",
    "    \n",
    "        art.weblink = l+link\n",
    "    \n",
    "        date = soup.find('div', attrs={'class':'c-title_footer'}).get_text()\n",
    "        art.date = date.split(', ')[0]\n",
    "        art.time = date.split(', ')[1]\n",
    "        \n",
    "        author = soup.find('a', attrs={'class':'c-title_author'}).get_text()\n",
    "        art.author = author\n",
    "        \n",
    "        text = soup.find('div', attrs={'class':'c-detail_content'}).get_text()\n",
    "        art.text = clean_text(text)\n",
    "        \n",
    "        words = len(clean_text(text).split())\n",
    "        art.words = words\n",
    "        \n",
    "        title = soup.find('h1', attrs={'class':'c-title_body'}).get_text()\n",
    "        art.head = clean_text(title)\n",
    "        \n",
    "        rubric = soup.find('div', attrs={'class':'c-title_head t-t-u'}).get_text()\n",
    "        r = rubric.split(' | ')\n",
    "        art.rubr = r[0]\n",
    "    \n",
    "        if r[0] not in rubrics_id:\n",
    "            rubrics_id[r[0]] = i\n",
    "            i+=1\n",
    "        art.rubrid = rubrics_id[r[0]]\n",
    "    \n",
    "        try:\n",
    "            art.hashtag = r[1]\n",
    "        except:\n",
    "            pass\n",
    "    \n",
    "        #print(art)\n",
    "        #print(text)\n",
    "        #print(date)\n",
    "        #print(author)\n",
    "        print(title)\n",
    "        print(words)\n",
    "        print(link)\n",
    "        print(i)\n",
    "        #print(r[0])\n",
    "        #print(r[1])\n",
    "    \n",
    "    \n",
    "        res = es.search(index=\"kanobu\", body={\"query\": {\"match_all\": {}}})\n",
    "        maxid = res['hits']['total']['value']\n",
    "    \n",
    "        es.index(index=\"kanobu\", doc_type='article', id = maxid, body=art.toDict())"
   ]
  },
  {
   "cell_type": "code",
   "execution_count": 6,
   "metadata": {},
   "outputs": [],
   "source": [
    "def create_db(index):\n",
    "    es.indices.create(index=index)\n",
    "    mapit={\"article\":{\"properties\":{\"author\":{\"type\":\"text\"},\n",
    "                                \"date\":{\"type\":\"text\"},\n",
    "                                \"time\":{\"type\":\"date\", \"format\":\" HH:mm\"},\n",
    "                                \"words\":{\"type\":\"double\"},\n",
    "                                \"hashtag\":{\"type\":\"text\",\"analyzer\" : \"russian\"},\n",
    "                                \"rubrics\":{\"type\":\"text\",\"analyzer\" : \"russian\"},\n",
    "                                \"rubricsid\":{\"type\":\"double\"},\n",
    "                                \"link\":{\"type\":\"text\",\"analyzer\" : \"russian\"},\n",
    "                                \"text\":{\"type\":\"text\",\"analyzer\" : \"russian\"},\n",
    "                                \"title\":{\"type\":\"text\",\"analyzer\" : \"russian\"}}}}\n",
    "    es.indices.put_mapping(index=index, doc_type='article', body=mapit, include_type_name=True)"
   ]
  },
  {
   "cell_type": "code",
   "execution_count": 7,
   "metadata": {},
   "outputs": [],
   "source": [
    "def GetArticles(links):\n",
    "    create_db(\"kanobu\")\n",
    "    add_article(links)\n",
    "    time.sleep(random.randint(1,3))"
   ]
  },
  {
   "cell_type": "code",
   "execution_count": 8,
   "metadata": {},
   "outputs": [
    {
     "data": {
      "text/plain": [
       "{'acknowledged': True}"
      ]
     },
     "execution_count": 8,
     "metadata": {},
     "output_type": "execute_result"
    }
   ],
   "source": [
    "es.indices.delete(index=\"kanobu\") "
   ]
  },
  {
   "cell_type": "code",
   "execution_count": 9,
   "metadata": {},
   "outputs": [
    {
     "name": "stdout",
     "output_type": "stream",
     "text": [
      "Джей Джей Абрамс и Epic Games сделали мобильную игру про шпионов. Вот первые скриншоты\n",
      "207\n",
      "/news/dzhej-dzhej-abrams-i-epic-games-sdelali-mobilnuyu-igru-pro-shpionov-vot-pervyie-skrinshotyi-422883/\n",
      "2\n",
      "Актеры GTA V призвали не верить инсайдам о GTA VI: «Откуда они берут это?»\n",
      "169\n",
      "/news/akteryi-gta-v-prizvali-ne-verit-insajdam-o-gta-vi-otkuda-oni-berut-eto-422882/\n",
      "2\n",
      "Гоблин правильно озвучил художественный фильм «Джентльмены» для «Ростелекома»\n",
      "136\n",
      "/news/goblin-pravilno-ozvuchil-hudozhestvennyij-film-dzhentlmenyi-dlya-rostelekoma-422881/\n",
      "3\n",
      "Звезда «Достать ножи» советует «Надеть маски». Джейми Ли Кертис рекомендует сидеть на карантине\n",
      "130\n",
      "/news/zvezda-dostat-nozhi-sovetuet-nadet-maski-dzhejmi-li-kertis-rekomenduet-sidet-na-karantine-422880/\n",
      "3\n",
      "ГеймНет-челлендж: вебинар с организаторами\n",
      "218\n",
      "/news/gejmnet-chellendzh-vebinar-sorganizatorami-422879/\n",
      "3\n",
      "Инсайдер рассказал про Resident Evil 8. Изначально это была Revelations 3\n",
      "186\n",
      "/news/insajder-rasskazal-pro-resident-evil8-iznachalno-eto-byila-revelations3-422878/\n",
      "3\n",
      "Российский художник показал постапокалипсис с курьерами в главной роли\n",
      "154\n",
      "/news/rossijskij-hudozhnik-pokazal-postapokalipsis-skurerami-vglavnoj-roli-422877/\n",
      "4\n",
      "IGN проведет мероприятие, которое заменит нам E3 2020\n",
      "118\n",
      "/news/ign-provedet-meropriyatie-kotoroe-zamenit-nam-e3-2020-422876/\n",
      "4\n",
      "«Человека-муравья 3» напишет сценарист «Рика и Морти»\n",
      "135\n",
      "/news/cheloveka-muravya-3-napishet-stsenarist-rika-imorti-422875/\n",
      "4\n",
      "Режиссер «Хищных птиц» высказалась о неудачах фильма\n",
      "191\n",
      "/news/rezhisser-hischnyih-ptits-vyiskazalas-oneudachah-filma-422874/\n",
      "4\n",
      "Саша Грей постримила Resident Evil 3: Remake\n",
      "152\n",
      "/news/sasha-grej-postrimila-resident-evil-3-remake-422873/\n",
      "4\n",
      "«Это Веном?» — в интернете считают, что нашли реального симбиота\n",
      "145\n",
      "/news/eto-venom-vinternete-schitayut-chto-nashli-realnogo-simbiota-422872/\n",
      "4\n",
      "Новый выпуск «Поле чудес» напомнил сериал «Черное зеркало»\n",
      "168\n",
      "/news/novyij-vyipusk-pole-chudes-napomnil-serial-chernoe-zerkalo-422871/\n",
      "4\n",
      "Marvel и Disney назвали новые даты премьеры своих фильмов\n",
      "197\n",
      "/news/marvel-idisney-nazvali-novyie-datyi-premeryi-svoih-filmov-422870/\n",
      "4\n",
      "Министерство цифрового развития попросило интернет-компании снизить нагрузку на сеть\n",
      "118\n",
      "/news/ministerstvo-tsifrovogo-razvitiya-poprosilo-internet-kompanii-snizit-nagruzku-naset-422869/\n",
      "5\n",
      "В сеть слили новый фильм Кирилла Серебренникова\n",
      "188\n",
      "/news/vset-slili-novyij-film-kirilla-serebrennikova-422868/\n",
      "5\n",
      "Третий сезон Call of Duty: Modern Warfare начнется 8 апреля\n",
      "189\n",
      "/news/tretij-sezon-call-ofduty-modern-warfare-nachnetsya-8aprelya-422867/\n",
      "5\n",
      "Новый геймплей The Last of Us 2. В сеть попали новые кадры игры\n",
      "193\n",
      "/news/vset-popali-novyie-kadryi-gejmpleya-izthe-last-ofuspart-ii-422866/\n",
      "5\n",
      "Умер художник Хуан Хименес. Он рисовал «Метабаронов»\n",
      "130\n",
      "/news/umer-hudozhnik-huan-himenes-onrisoval-metabaronov-422865/\n",
      "6\n",
      "Авторы Valorant показали геймплей за проворную Джетт\n",
      "177\n",
      "/news/avtoryi-valorant-pokazali-gejmplej-zaprovornuyu-dzhett-422864/\n",
      "6\n",
      "Победители зимнего Indie Cup 2020\n",
      "224\n",
      "/news/pobediteli-zimnego-indie-cup-2020-422863/\n",
      "6\n",
      "Умер автор хита Ainʼt No Sunshine — звезда соула Билл Уизерс\n",
      "198\n",
      "/news/umer-avtor-hita-aint-nosunshine-zvezda-soula-bill-uizers-422862/\n",
      "7\n",
      "Новое обновление в Rust. Генетические изменения и улучшенное сельское хозяйство\n",
      "134\n",
      "/news/novoe-obnovlenie-vrust-geneticheskie-izmeneniya-iuluchshennoe-selskoe-hozyajstvo-422861/\n",
      "7\n",
      "DonationAlerts запустил 36-часовой музыкальный стрим-марафон\n",
      "150\n",
      "/news/donationalerts-zapustil-36-chasovoj-muzyikalnyij-strim-marafon-422860/\n",
      "7\n",
      "Снова халява в GOG: бесплатно раздают Symmetry\n",
      "168\n",
      "/news/snova-halyava-vgog-besplatno-razdayut-symmetry-422859/\n",
      "7\n",
      "Как в сети отреагировали на объезд Москвы патриархом Кириллом\n",
      "117\n",
      "/news/kak-vseti-otreagirovali-naobezd-moskvyi-patriarhom-kirillom-422858/\n",
      "7\n",
      "Стало известно, сколько часов люди, сидящие на карантине, смотрят стримы\n",
      "140\n",
      "/news/stalo-izvestno-skolko-chasov-lyudi-sidyaschie-nakarantine-smotryat-strimyi-422857/\n",
      "7\n",
      "Little Big даст онлайн-концерт 11 апреля\n",
      "159\n",
      "/news/little-big-dast-onlajn-kontsert-11aprelya-422856/\n",
      "7\n",
      "10 главных новостей недели в мире технологий: новые видеокарты Nvidia и обновление Telegram\n",
      "568\n",
      "/news/10-glavnyih-novostej-nedeli-vmire-tehnologij-novyie-videokartyi-nvidia-iobnovlenie-telegram-422854/\n",
      "7\n",
      "Минкульт разрешил перенести съемки отечественных картин\n",
      "118\n",
      "/news/minkult-razreshil-perenesti-semki-otechestvennyih-kartin-422855/\n",
      "7\n",
      "Владельцам Call of Duty: Warzone бесплатно доступен мультиплеер Modern Warfare\n",
      "193\n",
      "/news/vladeltsam-call-ofduty-warzone-besplatno-dostupen-multipleer-modern-warfare-422853/\n",
      "7\n",
      "Представлены смарт-камеры серии Xiaomi Mi Smart Camera PTZ: новинки для создания безопасного дома\n",
      "140\n",
      "/news/predstavlenyi-smart-kameryi-xiaomi-mismart-camera-ptz-novinki-dlya-sozdaniya-bezopasnogo-doma-422852/\n",
      "7\n",
      "Дэниел Крейг, Кейт Уинслет, Элтон Джон и другие знаменитости поблагодарили медиков\n",
      "140\n",
      "/news/deniel-krejg-kejt-uinslet-elton-dzhon-idrugie-znamenitosti-poblagodarili-medikov-422851/\n",
      "7\n",
      "Marvel открыла бесплатный доступ к части своих комиксов. Но только до 4 мая\n",
      "156\n",
      "/news/marvel-otkryila-besplatnyij-dostup-k-chasti-svoih-komiksov-no-tolko-do-4-maya-422850/\n",
      "7\n",
      "«Он тупой»: Хабиб ответил на требование Фергюсона лишить его чемпионского пояса\n",
      "201\n",
      "/news/on-tupoj-habib-otvetil-na-trebovanie-fergyusona-lishit-ego-chempionskogo-poyasa-422849/\n",
      "7\n",
      "Okko открыл доступ к бесплатной коллекции фильмов и концертов\n",
      "179\n",
      "/news/okko-otkryil-dostup-kbesplatnoj-kollektsii-filmov-ikontsertov-422848/\n",
      "7\n"
     ]
    }
   ],
   "source": [
    "GetArticles(GetPagesArticles(2))"
   ]
  },
  {
   "cell_type": "markdown",
   "metadata": {},
   "source": [
    "### Интерфейс"
   ]
  },
  {
   "cell_type": "code",
   "execution_count": 10,
   "metadata": {},
   "outputs": [],
   "source": [
    "import ipywidgets as widgets\n",
    "from IPython.display import display, Markdown, clear_output\n",
    "from ipywidgets import interact, interactive, fixed, interact_manual"
   ]
  },
  {
   "cell_type": "code",
   "execution_count": 11,
   "metadata": {},
   "outputs": [],
   "source": [
    "text1 = widgets.Text(\n",
    "    value='',\n",
    "    placeholder='Type what you want to find',\n",
    "    description='Text:',\n",
    "    disabled=False\n",
    ")"
   ]
  },
  {
   "cell_type": "code",
   "execution_count": 12,
   "metadata": {},
   "outputs": [],
   "source": [
    "menu = widgets.Dropdown(\n",
    "       options=['id', 'title', 'date', 'author', 'hashtag', 'rubrics'],\n",
    "       value='id',\n",
    "       description='How to find?')"
   ]
  },
  {
   "cell_type": "code",
   "execution_count": 13,
   "metadata": {},
   "outputs": [],
   "source": [
    "text = widgets.Text(\n",
    "    value='',\n",
    "    placeholder='Type what you want to find',\n",
    "    description='Text:',\n",
    "    disabled=False\n",
    ")"
   ]
  },
  {
   "cell_type": "code",
   "execution_count": 14,
   "metadata": {},
   "outputs": [],
   "source": [
    "text2 = widgets.Text(\n",
    "    value='',\n",
    "    placeholder='Enter the link of the article to add',\n",
    "    description='Text:',\n",
    "    disabled=False\n",
    ")"
   ]
  },
  {
   "cell_type": "code",
   "execution_count": 15,
   "metadata": {},
   "outputs": [],
   "source": [
    "order = widgets.Dropdown(\n",
    "       options=['ascending', 'descending'],\n",
    "       value='ascending',\n",
    "       description='Order')"
   ]
  },
  {
   "cell_type": "code",
   "execution_count": 16,
   "metadata": {},
   "outputs": [],
   "source": [
    "sortby = widgets.Dropdown(\n",
    "       options=['_id', 'words'],\n",
    "       value='_id',\n",
    "       description='Sort by')"
   ]
  },
  {
   "cell_type": "code",
   "execution_count": 17,
   "metadata": {},
   "outputs": [],
   "source": [
    "number = widgets.IntSlider(\n",
    "    value=10,\n",
    "    min=1,\n",
    "    max=10000,\n",
    "    step=1,\n",
    "    description='How many articles?',\n",
    ")"
   ]
  },
  {
   "cell_type": "code",
   "execution_count": 18,
   "metadata": {},
   "outputs": [],
   "source": [
    "counter = widgets.Dropdown(\n",
    "       options=['min', 'max', 'avg'],\n",
    "       value='max',\n",
    "       description='words')"
   ]
  },
  {
   "cell_type": "code",
   "execution_count": 19,
   "metadata": {},
   "outputs": [],
   "source": [
    "button1 = widgets.Button(description='Count')\n",
    "out = widgets.Output()"
   ]
  },
  {
   "cell_type": "code",
   "execution_count": 20,
   "metadata": {},
   "outputs": [],
   "source": [
    "def on_button_clicked1(_):\n",
    "    with out:\n",
    "        clear_output()\n",
    "        res=es.search(index = \"kanobu\", body = {\"size\": 0, \"aggs\": {counter.value: {counter.value: {\"field\": \"words\" }}}})\n",
    "        print(round(res[\"aggregations\"][counter.value][\"value\"]))\n",
    "        "
   ]
  },
  {
   "cell_type": "code",
   "execution_count": 21,
   "metadata": {},
   "outputs": [],
   "source": [
    "button1.on_click(on_button_clicked1)"
   ]
  },
  {
   "cell_type": "code",
   "execution_count": 22,
   "metadata": {},
   "outputs": [],
   "source": [
    "button2 = widgets.Button(description='Match with options')\n",
    "out = widgets.Output()\n",
    "\n",
    "def on_button_clicked2(_):\n",
    "    with out:\n",
    "        clear_output()\n",
    "        if menu.value == 'id':\n",
    "            id_search = int(text.value)\n",
    "            print(es.get(index=\"kanobu\", doc_type='article', id=id_search))\n",
    "        \n",
    "        else:\n",
    "            res = es.search(index=\"kanobu\", body={\"query\": {\"match\": {menu.value : text.value}}}, size=100)\n",
    "            for part in res[\"hits\"][\"hits\"]:\n",
    "                print(part)"
   ]
  },
  {
   "cell_type": "code",
   "execution_count": 23,
   "metadata": {},
   "outputs": [],
   "source": [
    "button2.on_click(on_button_clicked2)"
   ]
  },
  {
   "cell_type": "code",
   "execution_count": 24,
   "metadata": {},
   "outputs": [],
   "source": [
    "button3 = widgets.Button(description='Add article')\n",
    "out = widgets.Output()\n",
    "\n",
    "def on_button_clicked3(_):\n",
    "    with out:\n",
    "        clear_output()\n",
    "        link = text2.value\n",
    "        add_article(link)"
   ]
  },
  {
   "cell_type": "code",
   "execution_count": 25,
   "metadata": {},
   "outputs": [],
   "source": [
    "button3.on_click(on_button_clicked3)"
   ]
  },
  {
   "cell_type": "code",
   "execution_count": 26,
   "metadata": {},
   "outputs": [],
   "source": [
    "text3 = widgets.Text(\n",
    "    value='',\n",
    "    placeholder='Enter article id to delete',\n",
    "    description='Text:',\n",
    "    disabled=False\n",
    ")"
   ]
  },
  {
   "cell_type": "code",
   "execution_count": 27,
   "metadata": {},
   "outputs": [],
   "source": [
    "button4 = widgets.Button(description='Delete article')\n",
    "out = widgets.Output()\n",
    "\n",
    "def on_button_clicked4(_):\n",
    "    with out:\n",
    "        clear_output()\n",
    "        id_del = int(text3.value)\n",
    "        es.delete(index=\"kanobu\",doc_type=\"article\",id=id_del)\n",
    "        print('Done')"
   ]
  },
  {
   "cell_type": "code",
   "execution_count": 28,
   "metadata": {},
   "outputs": [],
   "source": [
    "button4.on_click(on_button_clicked4)"
   ]
  },
  {
   "cell_type": "code",
   "execution_count": 29,
   "metadata": {},
   "outputs": [],
   "source": [
    "button5 = widgets.Button(description='Sort articles')\n",
    "out = widgets.Output()"
   ]
  },
  {
   "cell_type": "code",
   "execution_count": 30,
   "metadata": {},
   "outputs": [],
   "source": [
    "def on_button_clicked5(_):\n",
    "    with out:\n",
    "        clear_output()\n",
    "        if order.value == 'ascending':\n",
    "            ord = str(sortby.value)+':asc'\n",
    "        elif order.value == 'descending':\n",
    "            ord = str(sortby.value)+':desc'\n",
    "        res = es.search(index=\"kanobu\", body={\"query\": {\"match_all\": {}}}, sort=ord,size=number.value)\n",
    "        for part in res[\"hits\"][\"hits\"]:\n",
    "            print(part)"
   ]
  },
  {
   "cell_type": "code",
   "execution_count": 31,
   "metadata": {},
   "outputs": [],
   "source": [
    "button5.on_click(on_button_clicked5)"
   ]
  },
  {
   "cell_type": "code",
   "execution_count": 32,
   "metadata": {},
   "outputs": [],
   "source": [
    "id_upd = widgets.Text(\n",
    "    value='',\n",
    "    placeholder='Enter your id',\n",
    "    description='Text:',\n",
    "    disabled=False\n",
    ")\n",
    "\n",
    "menu_upd = widgets.Dropdown(\n",
    "       options=['title', 'date', 'author', 'hashtag', 'rubrics', 'text'],\n",
    "       value='title',\n",
    "       description='Update')\n",
    "\n",
    "text_upd = widgets.Text(\n",
    "    value='',\n",
    "    placeholder='Enter your update',\n",
    "    description='Text:',\n",
    "    disabled=False\n",
    ")\n",
    "\n",
    "button_upd = widgets.Button(description='Update')\n",
    "out = widgets.Output()\n",
    "\n",
    "def on_button_clicked_upd(_):\n",
    "    with out:\n",
    "        clear_output()\n",
    "        your_id = int(id_upd.value)\n",
    "        upd_area = str(menu_upd.value)\n",
    "        text = str(text_upd.value)\n",
    "        es.update(index='kanobu', doc_type='article', id=your_id, body={\"doc\": {upd_area: text}})\n",
    "        print('Done')"
   ]
  },
  {
   "cell_type": "code",
   "execution_count": 33,
   "metadata": {},
   "outputs": [],
   "source": [
    "button_upd.on_click(on_button_clicked_upd)"
   ]
  },
  {
   "cell_type": "code",
   "execution_count": 45,
   "metadata": {},
   "outputs": [],
   "source": [
    "number_size = widgets.IntSlider(\n",
    "    value=10,\n",
    "    min=1,\n",
    "    max=50,\n",
    "    step=1,\n",
    "    description='How many articles to show?',\n",
    ")"
   ]
  },
  {
   "cell_type": "code",
   "execution_count": 46,
   "metadata": {},
   "outputs": [],
   "source": [
    "number_in_group = widgets.IntSlider(\n",
    "    value=10,\n",
    "    min=1,\n",
    "    max=30,\n",
    "    step=1,\n",
    "    description='How many articles in a group?',\n",
    ")"
   ]
  },
  {
   "cell_type": "code",
   "execution_count": 47,
   "metadata": {},
   "outputs": [],
   "source": [
    "button_group = widgets.Button(description='Group by rubrics')\n",
    "out = widgets.Output()"
   ]
  },
  {
   "cell_type": "code",
   "execution_count": 48,
   "metadata": {},
   "outputs": [],
   "source": [
    "def on_button_clicked_group(_):\n",
    "    with out:\n",
    "        clear_output()\n",
    "        res = es.search(index=\"kanobu\", body={\"size\":number_size.value, \"query\": {\"match_all\": {}}, \"collapse\": {\"field\" : \"rubrics_id\", \"inner_hits\": {\"name\":\"rubrics_id\",\"size\": number_in_group.value}}})\n",
    "        for group in res['hits']['hits']:\n",
    "            print(group)\n",
    "            print()\n",
    "        "
   ]
  },
  {
   "cell_type": "code",
   "execution_count": 49,
   "metadata": {},
   "outputs": [],
   "source": [
    "button_group.on_click(on_button_clicked_group)"
   ]
  },
  {
   "cell_type": "code",
   "execution_count": 50,
   "metadata": {
    "scrolled": false
   },
   "outputs": [
    {
     "data": {
      "application/vnd.jupyter.widget-view+json": {
       "model_id": "bf30e6e8a6394fbcbf40a0ea2e22d000",
       "version_major": 2,
       "version_minor": 0
      },
      "text/plain": [
       "VBox(children=(VBox(children=(Dropdown(description='How to find?', options=('id', 'title', 'date', 'author', '…"
      ]
     },
     "metadata": {},
     "output_type": "display_data"
    }
   ],
   "source": [
    "box1 = widgets.VBox([menu, text, button2])\n",
    "box2 = widgets.VBox([text2, button3, text3, button4])\n",
    "box3 = widgets.VBox([id_upd, menu_upd, text_upd, button_upd])\n",
    "box4 = widgets.VBox([sortby,order, number, button5])\n",
    "box5 = widgets.VBox([counter, button1])\n",
    "box6 = widgets.VBox([number_size, number_in_group, button_group])\n",
    "widgets.VBox([box1, box2, box3, box4, box5, box6, out])"
   ]
  },
  {
   "cell_type": "markdown",
   "metadata": {},
   "source": [
    "- поиск по Id выполняется по другому (придумать как добавить его в ту же кнопку) - <b>сделано</b>\n",
    "- кнопка для добавления статьи по ссылке - <b>сделано</b>\n",
    "- не хватает операции update (например, \"положи по существующему индексу другую статью\" - <b>сделано</b>\n",
    "- нужно организовать меню с кнопками получше - <b>сделано</b>\n",
    "- сортировка <b>сделано</b>\n",
    "- - \"2 - два действия помимо CRUD (сортировка, группировка, агрегация, ...) \" <b>сделано</b>\n",
    "- виджет с агрегацией <b>сделано</b>\n",
    "- Когда ищу для 2 апреля сначала идут статьи 2 апреля, а потом почему-то статьи 3 апреля (и наоборот)\n",
    "- группировка <b>сделано<b>"
   ]
  },
  {
   "cell_type": "markdown",
   "metadata": {},
   "source": [
    "\"Требования к нереляционным БД\n",
    "2 - нереляционная БД\n",
    "2 - красивая структура БД\n",
    "2 - интерфейс позволяет класть, доставать, удалять данные (проводить операции CRUD - Create, Read, Update, Delete)\n",
    "2 - два действия помимо CRUD (сортировка, группировка, агрегация, ...)\n",
    "2 - зависит от БД: Redis - использование ключей, хешей, ...; Neo4j - нахождение путей не только к соседним вершинам, операции с графами; MongoDB, ElasticSearch - работа с текстами или географией; остальные БД - будем договариваться.\""
   ]
  }
 ],
 "metadata": {
  "kernelspec": {
   "display_name": "Python 3",
   "language": "python",
   "name": "python3"
  },
  "language_info": {
   "codemirror_mode": {
    "name": "ipython",
    "version": 3
   },
   "file_extension": ".py",
   "mimetype": "text/x-python",
   "name": "python",
   "nbconvert_exporter": "python",
   "pygments_lexer": "ipython3",
   "version": "3.7.4"
  }
 },
 "nbformat": 4,
 "nbformat_minor": 2
}
