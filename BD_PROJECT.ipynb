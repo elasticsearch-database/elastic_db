{
 "cells": [
  {
   "cell_type": "code",
   "execution_count": 240,
   "metadata": {},
   "outputs": [],
   "source": [
    "import requests\n",
    "from bs4 import BeautifulSoup\n",
    "import time \n",
    "import random \n",
    "import re\n",
    "from fake_useragent import UserAgent\n",
    "import datetime\n",
    "from elasticsearch import Elasticsearch\n",
    "from tqdm import tqdm\n",
    "import string\n",
    "es=Elasticsearch()"
   ]
  },
  {
   "cell_type": "code",
   "execution_count": 241,
   "metadata": {},
   "outputs": [],
   "source": [
    "punct = string.punctuation + '«»—…“”'"
   ]
  },
  {
   "cell_type": "code",
   "execution_count": 675,
   "metadata": {},
   "outputs": [],
   "source": [
    "class KanobuArticle:\n",
    "    def __init__(self):\n",
    "        self.date=\"\"\n",
    "        self.time=\"\"\n",
    "        self.words=\"\"\n",
    "        self.rubr=\"\"\n",
    "        self.rubric=\"\"\n",
    "        self.hashtag=\"\"\n",
    "        self.url=\"\"\n",
    "        self.author=\"\"\n",
    "        self.head=\"\"\n",
    "        self.corona=\"\"\n",
    "        self.text=\"\"\n",
    "\n",
    "        \n",
    "\n",
    "    def toJSON(self):\n",
    "        res='{\"date\":\"'+self.date+'\", \"time\":\"'+self.time+'\", \"words\":\"'+self.words+'\", \"rubrics_id\":\"'+self.rubric+'\", \"rubrics\":\"'+self.rubr+'\", \"hashtag\":\"'+self.hashtag+'\", \"title\":\"'\n",
    "        +self.head+'\", \"link\":\"'+self.url+'\", \"author\":\"'+self.author+'\",\"text\":\"'\n",
    "        res+=self.text.replace('\"', '\\\\\"')+'\", \"corona\":\"'+self.corona+'\"}'\n",
    "        return res\n",
    "\n",
    "\n",
    "    def toDict(self):\n",
    "        res={\"date\":self.date, \"time\":self.time, \"rubrics_id\":self.rubric, \"rubrics\":self.rubr, \"hashtag\":self.hashtag, \\\n",
    "             \"title\":self.head, \"words\":self.words, \"link\":self.url, \"author\":self.author,\n",
    "             \"corona\":self.corona, \"text\":self.text.replace('\"', '\\\\\"')}\n",
    "        return res"
   ]
  },
  {
   "cell_type": "code",
   "execution_count": 676,
   "metadata": {},
   "outputs": [],
   "source": [
    "def GetPagesArticles(number_of_pages):\n",
    "    headers = {'User-Agent':'Mozilla/5.0 (Windows NT 6.4; WOW64) AppleWebKit/537.36 (KHTML, like Gecko) Chrome/41.0.2225.0 Safari/537.36'}\n",
    "    url = 'https://kanobu.ru/news/?page='\n",
    "    links = []\n",
    "    for page in range(1, number_of_pages+1):\n",
    "        r = requests.get(url + str(page), headers = headers)\n",
    "        time.sleep(random.randint(1,6))\n",
    "        content = r.content\n",
    "        html = content.decode('UTF-8')\n",
    "        soup = BeautifulSoup(html)\n",
    "        \n",
    "        for link in soup.find_all('a', attrs={'class':'c-item_foot d-b t-l'}):\n",
    "            links.append(link.get('href'))\n",
    "    \n",
    "    return links    "
   ]
  },
  {
   "cell_type": "code",
   "execution_count": 677,
   "metadata": {},
   "outputs": [],
   "source": [
    "def clean_text (text):\n",
    "    text = text.replace('\\xa0', ' ')\n",
    "    text = text.replace ('\\n', ' ')\n",
    "    text = text.replace ('  ', ' ')\n",
    "    return text"
   ]
  },
  {
   "cell_type": "code",
   "execution_count": 731,
   "metadata": {},
   "outputs": [],
   "source": [
    "def add_article(link):\n",
    "    art = KanobuArticle()\n",
    "    headers = {\n",
    "        'User-Agent': 'Mozilla/5.0 (Windows NT 6.4; WOW64) AppleWebKit/537.36 (KHTML, like Gecko) Chrome/41.0.2225.0 Safari/537.36'}\n",
    "    page = requests.get(link, headers=headers)\n",
    "    content = page.content\n",
    "    html = content.decode('UTF-8')\n",
    "    soup = BeautifulSoup(html, features=\"lxml\")\n",
    "\n",
    "    date = soup.find('div', attrs={'class': 'c-title_footer'}).get_text()\n",
    "    art.date = date.split(', ')[0]\n",
    "    art.time = date.split(', ')[1]\n",
    "    \n",
    "    author = soup.find('a', attrs={'class': 'c-title_author'}).get_text()\n",
    "    art.author = author\n",
    "\n",
    "    text = soup.find('div', attrs={'class': 'c-detail_content'}).get_text()\n",
    "    art.text = clean_text(text)\n",
    "\n",
    "    words = len(clean_text(text).split())\n",
    "    art.words = words\n",
    "    \n",
    "    art.corona = corona_detector(art.text)\n",
    "\n",
    "    title = soup.find('h1', attrs={'class': 'c-title_body'}).get_text()\n",
    "    art.head = clean_text(title)\n",
    "    \n",
    "    art.url = link\n",
    "    \n",
    "    rubric = soup.find('div', attrs={'class': 'c-title_head t-t-u'}).get_text()\n",
    "    r = rubric.split(' | ')\n",
    "    art.rubr = r[0]\n",
    "    \n",
    "    try:\n",
    "        art.rubric = rubrics_id[art.rubr]\n",
    "    except:\n",
    "        pass\n",
    "    \n",
    "    try:\n",
    "        art.hashtag = r[1]\n",
    "    except:\n",
    "        pass\n",
    "    \n",
    "    # print(art)\n",
    "    # print(text)\n",
    "    # print(date)\n",
    "    # print(author)\n",
    "    print(title)\n",
    "    #print(words)\n",
    "    # print(r[0])\n",
    "    # print(r[1])\n",
    "\n",
    "    res = es.search(index=\"kanobu\", body={\"query\": {\"match_all\": {}}})\n",
    "    maxid = res['hits']['total']['value']\n",
    "    es.index(index=\"kanobu\", doc_type='article', id=maxid, body=art.toDict())\n",
    "    \n",
    "    return art.rubr, maxid"
   ]
  },
  {
   "cell_type": "code",
   "execution_count": 679,
   "metadata": {},
   "outputs": [],
   "source": [
    "covid_words = {\"коронавирус\", \"коронавируса\", \"коронавирусом\", \"коронавирусе\",\"коронавирусу\", \n",
    "               \"коронавирусная\", \"коронавирусный\", \"коронавирусное\",\n",
    "               \"вирус\", \"вируса\", \"вирусом\", \"вирусы\", \"вирусе\", \"вирусу\",\n",
    "               \"инфекция\", \"инфекции\", \"инфекцией\", \"инфекцию\",\n",
    "               \"эпидемия\", \"эпидемии\", \"эпидемию\",\"эпидемией\",\n",
    "               \"пандемия\", \"пандемии\", \"пандемию\", \"пандемией\", \n",
    "               \"карантин\", \"карантину\", \"карантина\", \"карантином\",\n",
    "               \"самоизоляция\", \"самоизоляции\", \"самоизоляцией\", \"covid-19\", \"covid\",\n",
    "               \"corona\"}"
   ]
  },
  {
   "cell_type": "code",
   "execution_count": 680,
   "metadata": {},
   "outputs": [],
   "source": [
    "def corona_detector(text):\n",
    "    words = [word.strip(string.punctuation).lower() for word in text.split()]\n",
    "    counter = 0\n",
    "    for word in words:\n",
    "        if word in covid_words:\n",
    "            counter+=1\n",
    "    return counter"
   ]
  },
  {
   "cell_type": "code",
   "execution_count": 681,
   "metadata": {},
   "outputs": [],
   "source": [
    "def create_db(index):\n",
    "    es.indices.create(index=index)\n",
    "    mapit={\"article\":{\"properties\":{\"author\":{\"type\":\"text\"},\n",
    "                                \"date\":{\"type\":\"text\"},\n",
    "                                \"time\":{\"type\":\"date\", \"format\":\" HH:mm\"},\n",
    "                                \"words\":{\"type\":\"double\"},\n",
    "                                \"rubrics_id\":{\"type\":\"double\"},\n",
    "                                \"hashtag\":{\"type\":\"text\",\"analyzer\" : \"russian\"},\n",
    "                                \"rubrics\":{\"type\":\"text\",\"analyzer\" : \"russian\"},\n",
    "                                \"corona\":{\"type\":\"double\"},\n",
    "                                \"url\":{\"type\":\"text\",\"analyzer\" : \"russian\"},\n",
    "                                \"text\":{\"type\":\"text\",\"analyzer\" : \"russian\"},\n",
    "                                \"title\":{\"type\":\"text\",\"analyzer\" : \"russian\"}}}}\n",
    "    es.indices.put_mapping(index=index, doc_type='article', body=mapit, include_type_name=True)"
   ]
  },
  {
   "cell_type": "code",
   "execution_count": 682,
   "metadata": {},
   "outputs": [],
   "source": [
    "def GetArticles(links):\n",
    "    i = 1\n",
    "    l = 'https://kanobu.ru'\n",
    "    create_db(\"kanobu\")\n",
    "    rubrics_id = {}\n",
    "    for link in links:\n",
    "        rubr, current_id = add_article(l+link)\n",
    "        if rubr not in rubrics_id:\n",
    "            rubrics_id[rubr] = i\n",
    "            i+=1\n",
    "        es.update(index='kanobu', doc_type='article', id=current_id, body={\"doc\": {\"rubrics_id\": rubrics_id[rubr]}})\n",
    "        time.sleep(random.randint(1,3))\n",
    "    return rubrics_id"
   ]
  },
  {
   "cell_type": "code",
   "execution_count": 683,
   "metadata": {},
   "outputs": [
    {
     "data": {
      "text/plain": [
       "{'acknowledged': True}"
      ]
     },
     "execution_count": 683,
     "metadata": {},
     "output_type": "execute_result"
    }
   ],
   "source": [
    "es.indices.delete(index=\"kanobu\") "
   ]
  },
  {
   "cell_type": "code",
   "execution_count": 684,
   "metadata": {},
   "outputs": [
    {
     "name": "stdout",
     "output_type": "stream",
     "text": [
      "Криповое «Поле чудес», уроки русского от Миллы Йовович и кошачьи анусы: 10 главных новостей недели\n",
      "Минкульт предлагает ужесточить борьбу с пиратами — больше штрафовать и быстрее удалять\n",
      "Джей Джей Абрамс и Epic Games сделали мобильную игру про шпионов. Вот первые скриншоты\n",
      "Актеры GTA V призвали не верить инсайдам о GTA VI: «Откуда они берут это?»\n",
      "Гоблин правильно озвучил художественный фильм «Джентльмены» для «Ростелекома»\n",
      "Звезда «Достать ножи» советует «Надеть маски». Джейми Ли Кертис рекомендует сидеть на карантине\n",
      "ГеймНет-челлендж: вебинар с организаторами\n",
      "Инсайдер рассказал про Resident Evil 8. Изначально это была Revelations 3\n",
      "Российский художник показал постапокалипсис с курьерами в главной роли\n",
      "IGN проведет мероприятие, которое заменит нам E3 2020\n",
      "«Человека-муравья 3» напишет сценарист «Рика и Морти»\n",
      "Режиссер «Хищных птиц» высказалась о неудачах фильма\n",
      "Саша Грей постримила Resident Evil 3: Remake\n",
      "«Это Веном?» — в интернете считают, что нашли реального симбиота\n",
      "Новый выпуск «Поле чудес» напомнил сериал «Черное зеркало»\n",
      "Marvel и Disney назвали новые даты премьеры своих фильмов\n",
      "Министерство цифрового развития попросило интернет-компании снизить нагрузку на сеть\n",
      "В сеть слили новый фильм Кирилла Серебренникова\n"
     ]
    }
   ],
   "source": [
    "rubrics_id = GetArticles(GetPagesArticles(1))"
   ]
  },
  {
   "cell_type": "markdown",
   "metadata": {},
   "source": [
    "### Интерфейс"
   ]
  },
  {
   "cell_type": "code",
   "execution_count": 685,
   "metadata": {},
   "outputs": [],
   "source": [
    "import ipywidgets as widgets\n",
    "from IPython.display import display, Markdown, clear_output\n",
    "from ipywidgets import interact, interactive, fixed, interact_manual"
   ]
  },
  {
   "cell_type": "code",
   "execution_count": 686,
   "metadata": {},
   "outputs": [],
   "source": [
    "text1 = widgets.Text(\n",
    "    value='',\n",
    "    placeholder='Type what you want to find',\n",
    "    description='Text:',\n",
    "    disabled=False\n",
    ")"
   ]
  },
  {
   "cell_type": "code",
   "execution_count": 728,
   "metadata": {},
   "outputs": [],
   "source": [
    "menu = widgets.Dropdown(\n",
    "       options=['id', 'title', 'date', 'author', 'hashtag', 'rubrics', 'corona'],\n",
    "       value='id',\n",
    "       description='How to find?')"
   ]
  },
  {
   "cell_type": "code",
   "execution_count": 688,
   "metadata": {},
   "outputs": [],
   "source": [
    "text = widgets.Text(\n",
    "    value='',\n",
    "    placeholder='Type what you want to find',\n",
    "    description='Text:',\n",
    "    disabled=False\n",
    ")"
   ]
  },
  {
   "cell_type": "code",
   "execution_count": 732,
   "metadata": {},
   "outputs": [],
   "source": [
    "text2 = widgets.Text(\n",
    "    value='',\n",
    "    placeholder='Enter the link of the article to add',\n",
    "    description='Link:',\n",
    "    disabled=False\n",
    ")"
   ]
  },
  {
   "cell_type": "code",
   "execution_count": 733,
   "metadata": {},
   "outputs": [],
   "source": [
    "order = widgets.Dropdown(\n",
    "       options=['ascending', 'descending'],\n",
    "       value='ascending',\n",
    "       description='Order')"
   ]
  },
  {
   "cell_type": "code",
   "execution_count": 734,
   "metadata": {},
   "outputs": [],
   "source": [
    "sortby = widgets.Dropdown(\n",
    "       options=['_id', 'words', 'corona'],\n",
    "       value='_id',\n",
    "       description='Sort by')"
   ]
  },
  {
   "cell_type": "code",
   "execution_count": 735,
   "metadata": {},
   "outputs": [],
   "source": [
    "number = widgets.IntSlider(\n",
    "    value=10,\n",
    "    min=1,\n",
    "    max=10000,\n",
    "    step=1,\n",
    "    description='How many articles?',\n",
    ")"
   ]
  },
  {
   "cell_type": "code",
   "execution_count": 736,
   "metadata": {},
   "outputs": [],
   "source": [
    "counter = widgets.Dropdown(\n",
    "       options=['min', 'max', 'avg'],\n",
    "       value='max',\n",
    "       description='measure')"
   ]
  },
  {
   "cell_type": "code",
   "execution_count": 737,
   "metadata": {},
   "outputs": [],
   "source": [
    "counter2 = widgets.Dropdown(\n",
    "       options=['words', 'corona'],\n",
    "       value='words',\n",
    "       description='counter')"
   ]
  },
  {
   "cell_type": "code",
   "execution_count": 738,
   "metadata": {},
   "outputs": [],
   "source": [
    "button6 = widgets.Button(description='Count')\n",
    "out = widgets.Output()"
   ]
  },
  {
   "cell_type": "code",
   "execution_count": 739,
   "metadata": {},
   "outputs": [],
   "source": [
    "button1 = widgets.Button(description='Count')\n",
    "out = widgets.Output()"
   ]
  },
  {
   "cell_type": "code",
   "execution_count": 740,
   "metadata": {},
   "outputs": [],
   "source": [
    "def on_button_clicked1(_):\n",
    "    with out:\n",
    "        clear_output()\n",
    "        res=es.search(index = \"kanobu\", body = {\"size\": 0, \"aggs\": {counter.value: {counter.value: {\"field\": counter2.value }}}})\n",
    "        print(round(res[\"aggregations\"][counter.value][\"value\"]))\n",
    "        "
   ]
  },
  {
   "cell_type": "code",
   "execution_count": 741,
   "metadata": {},
   "outputs": [],
   "source": [
    "button1.on_click(on_button_clicked1)"
   ]
  },
  {
   "cell_type": "code",
   "execution_count": 742,
   "metadata": {},
   "outputs": [],
   "source": [
    "button2 = widgets.Button(description='Match with options')\n",
    "out = widgets.Output()\n",
    "\n",
    "def on_button_clicked2(_):\n",
    "    with out:\n",
    "        clear_output()\n",
    "        if menu.value == 'id':\n",
    "            id_search = int(text.value)\n",
    "            print(es.get(index=\"kanobu\", doc_type='article', id=id_search))\n",
    "        \n",
    "        else:\n",
    "            res = es.search(index=\"kanobu\", body={\"query\": {\"match\": {menu.value : text.value}}}, size=100)\n",
    "            for part in res[\"hits\"][\"hits\"]:\n",
    "                print(part)"
   ]
  },
  {
   "cell_type": "code",
   "execution_count": 743,
   "metadata": {},
   "outputs": [],
   "source": [
    "button2.on_click(on_button_clicked2)"
   ]
  },
  {
   "cell_type": "code",
   "execution_count": 744,
   "metadata": {},
   "outputs": [],
   "source": [
    "button3 = widgets.Button(description='Add article')\n",
    "out = widgets.Output()\n",
    "\n",
    "def on_button_clicked3(_):\n",
    "    with out:\n",
    "        clear_output()\n",
    "        link = text2.value\n",
    "        add_article(link)"
   ]
  },
  {
   "cell_type": "code",
   "execution_count": 745,
   "metadata": {},
   "outputs": [],
   "source": [
    "button3.on_click(on_button_clicked3)"
   ]
  },
  {
   "cell_type": "code",
   "execution_count": 746,
   "metadata": {},
   "outputs": [],
   "source": [
    "text3 = widgets.Text(\n",
    "    value='',\n",
    "    placeholder='Enter article id to delete',\n",
    "    description='Id:',\n",
    "    disabled=False\n",
    ")"
   ]
  },
  {
   "cell_type": "code",
   "execution_count": 747,
   "metadata": {},
   "outputs": [],
   "source": [
    "button4 = widgets.Button(description='Delete article')\n",
    "out = widgets.Output()\n",
    "\n",
    "def on_button_clicked4(_):\n",
    "    with out:\n",
    "        clear_output()\n",
    "        id_del = int(text3.value)\n",
    "        es.delete(index=\"kanobu\",doc_type=\"article\",id=id_del)\n",
    "        print('Done')"
   ]
  },
  {
   "cell_type": "code",
   "execution_count": 748,
   "metadata": {},
   "outputs": [],
   "source": [
    "button4.on_click(on_button_clicked4)"
   ]
  },
  {
   "cell_type": "code",
   "execution_count": 749,
   "metadata": {},
   "outputs": [],
   "source": [
    "button5 = widgets.Button(description='Sort articles')\n",
    "out = widgets.Output()"
   ]
  },
  {
   "cell_type": "code",
   "execution_count": 750,
   "metadata": {},
   "outputs": [],
   "source": [
    "def on_button_clicked5(_):\n",
    "    with out:\n",
    "        clear_output()\n",
    "        if order.value == 'ascending':\n",
    "            ord = str(sortby.value)+':asc'\n",
    "        elif order.value == 'descending':\n",
    "            ord = str(sortby.value)+':desc'\n",
    "        res = es.search(index=\"kanobu\", body={\"query\": {\"match_all\": {}}}, sort=ord,size=number.value)\n",
    "        for part in res[\"hits\"][\"hits\"]:\n",
    "            print(part)"
   ]
  },
  {
   "cell_type": "code",
   "execution_count": 751,
   "metadata": {},
   "outputs": [],
   "source": [
    "button5.on_click(on_button_clicked5)"
   ]
  },
  {
   "cell_type": "code",
   "execution_count": 752,
   "metadata": {},
   "outputs": [],
   "source": [
    "id_upd = widgets.Text(\n",
    "    value='',\n",
    "    placeholder='Enter your id',\n",
    "    description='Text:',\n",
    "    disabled=False\n",
    ")\n",
    "\n",
    "menu_upd = widgets.Dropdown(\n",
    "       options=['title', 'date', 'author', 'hashtag', 'rubrics', 'text'],\n",
    "       value='title',\n",
    "       description='Update')\n",
    "\n",
    "text_upd = widgets.Text(\n",
    "    value='',\n",
    "    placeholder='Enter your update',\n",
    "    description='Update:',\n",
    "    disabled=False\n",
    ")\n",
    "\n",
    "button_upd = widgets.Button(description='Update')\n",
    "out = widgets.Output()\n",
    "\n",
    "def on_button_clicked_upd(_):\n",
    "    with out:\n",
    "        clear_output()\n",
    "        your_id = int(id_upd.value)\n",
    "        upd_area = str(menu_upd.value)\n",
    "        text = str(text_upd.value)\n",
    "        es.update(index='kanobu', doc_type='article', id=your_id, body={\"doc\": {upd_area: text}})\n",
    "        print('Done')"
   ]
  },
  {
   "cell_type": "code",
   "execution_count": 753,
   "metadata": {},
   "outputs": [],
   "source": [
    "button_upd.on_click(on_button_clicked_upd)"
   ]
  },
  {
   "cell_type": "code",
   "execution_count": 754,
   "metadata": {},
   "outputs": [],
   "source": [
    "number_size = widgets.IntSlider(\n",
    "    value=10,\n",
    "    min=1,\n",
    "    max=50,\n",
    "    step=1,\n",
    "    description='to show',\n",
    ")"
   ]
  },
  {
   "cell_type": "code",
   "execution_count": 755,
   "metadata": {},
   "outputs": [],
   "source": [
    "number_in_group = widgets.IntSlider(\n",
    "    value=10,\n",
    "    min=1,\n",
    "    max=30,\n",
    "    step=1,\n",
    "    description='in 1 group',\n",
    ")"
   ]
  },
  {
   "cell_type": "code",
   "execution_count": 756,
   "metadata": {},
   "outputs": [],
   "source": [
    "button_group = widgets.Button(description='Group by rubrics')\n",
    "out = widgets.Output()"
   ]
  },
  {
   "cell_type": "code",
   "execution_count": 757,
   "metadata": {},
   "outputs": [],
   "source": [
    "def on_button_clicked_group(_):\n",
    "    with out:\n",
    "        clear_output()\n",
    "        res = es.search(index=\"kanobu\", body={\"size\":number_size.value, \"query\": {\"match_all\": {}}, \"collapse\": {\"field\" : \"rubrics_id\", \"inner_hits\": {\"name\":\"rubrics_id\",\"size\": number_in_group.value}}})\n",
    "        for group in res['hits']['hits']:\n",
    "            print(group)\n",
    "\n",
    "        "
   ]
  },
  {
   "cell_type": "code",
   "execution_count": 758,
   "metadata": {},
   "outputs": [],
   "source": [
    "button_group.on_click(on_button_clicked_group)"
   ]
  },
  {
   "cell_type": "code",
   "execution_count": 759,
   "metadata": {
    "scrolled": true
   },
   "outputs": [
    {
     "data": {
      "application/vnd.jupyter.widget-view+json": {
       "model_id": "333d6d9d5755410eab7081ddbef68331",
       "version_major": 2,
       "version_minor": 0
      },
      "text/plain": [
       "VBox(children=(VBox(children=(Dropdown(description='How to find?', index=1, options=('id', 'title', 'date', 'a…"
      ]
     },
     "metadata": {},
     "output_type": "display_data"
    }
   ],
   "source": [
    "box1 = widgets.VBox([menu, text, button2])\n",
    "box2 = widgets.VBox([text2, button3, text3, button4])\n",
    "box3 = widgets.VBox([id_upd, menu_upd, text_upd, button_upd])\n",
    "box4 = widgets.VBox([sortby,order, number, button5])\n",
    "box5 = widgets.VBox([counter2, counter, button1])\n",
    "box6 = widgets.VBox([number_size, number_in_group, button_group])\n",
    "widgets.VBox([box1, box2, box3, box4, box5, box6, out])"
   ]
  }
 ],
 "metadata": {
  "kernelspec": {
   "display_name": "Python 3",
   "language": "python",
   "name": "python3"
  },
  "language_info": {
   "codemirror_mode": {
    "name": "ipython",
    "version": 3
   },
   "file_extension": ".py",
   "mimetype": "text/x-python",
   "name": "python",
   "nbconvert_exporter": "python",
   "pygments_lexer": "ipython3",
   "version": "3.7.6"
  }
 },
 "nbformat": 4,
 "nbformat_minor": 2
}
